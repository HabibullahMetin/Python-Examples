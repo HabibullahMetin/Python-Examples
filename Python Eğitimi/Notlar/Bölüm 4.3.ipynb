{
 "cells": [
  {
   "cell_type": "code",
   "execution_count": 7,
   "metadata": {},
   "outputs": [
    {
     "name": "stdout",
     "output_type": "stream",
     "text": [
      "Yaşınızı girin20\n",
      "Mekana hoşgeldiniz\n"
     ]
    }
   ],
   "source": [
    "yas = int(input(\"Yaşınızı girin\"))\n",
    "\n",
    "if yas < 18 :\n",
    "    print(\"mekana giremezsiniz\")\n",
    "else :\n",
    "    print(\"Mekana hoşgeldiniz\")"
   ]
  },
  {
   "cell_type": "code",
   "execution_count": 12,
   "metadata": {},
   "outputs": [
    {
     "name": "stdout",
     "output_type": "stream",
     "text": [
      "Sayı :-5\n",
      "negatif sayı\n"
     ]
    }
   ],
   "source": [
    "sayi = int(input(\"Sayı :\"))\n",
    "\n",
    "if (sayi < 0) :\n",
    "    print(\"negatif sayı\")\n",
    "else :\n",
    "    print(\"0 ya da pozitif sayı\")\n",
    "    "
   ]
  },
  {
   "cell_type": "code",
   "execution_count": null,
   "metadata": {},
   "outputs": [],
   "source": []
  }
 ],
 "metadata": {
  "kernelspec": {
   "display_name": "Python 3",
   "language": "python",
   "name": "python3"
  },
  "language_info": {
   "codemirror_mode": {
    "name": "ipython",
    "version": 3
   },
   "file_extension": ".py",
   "mimetype": "text/x-python",
   "name": "python",
   "nbconvert_exporter": "python",
   "pygments_lexer": "ipython3",
   "version": "3.6.5"
  }
 },
 "nbformat": 4,
 "nbformat_minor": 2
}
