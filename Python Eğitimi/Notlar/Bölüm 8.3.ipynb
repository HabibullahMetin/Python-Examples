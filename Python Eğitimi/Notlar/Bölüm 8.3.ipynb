{
 "cells": [
  {
   "cell_type": "code",
   "execution_count": 5,
   "metadata": {},
   "outputs": [],
   "source": [
    "class Calisan() :\n",
    "    def __init__(self,isim,maas,departman) :\n",
    "        print(\"Çalışan sınıfının init fonksiyonu...\")\n",
    "        self.isim = isim\n",
    "        self.maas = maas\n",
    "        self.departman = departman\n",
    "    \n",
    "    def bilgileriGöster(self) :\n",
    "        print(\"Çalışan Sınıfının Bilgileri .....\")\n",
    "        print(\"İsim : {}\\n Maaş : {}\\n Departman : {} \\n\".format(self.isim,self.maas,self.departman))\n",
    "    \n",
    "    def departmanDegistir(self,yeni_departman) :\n",
    "        self.departman = yeni_departman\n",
    "    "
   ]
  },
  {
   "cell_type": "code",
   "execution_count": 6,
   "metadata": {},
   "outputs": [],
   "source": [
    "class Yonetici(Calisan) :\n",
    "    pass"
   ]
  },
  {
   "cell_type": "code",
   "execution_count": 7,
   "metadata": {},
   "outputs": [
    {
     "name": "stdout",
     "output_type": "stream",
     "text": [
      "Çalışan sınıfının init fonksiyonu...\n"
     ]
    }
   ],
   "source": [
    "yonetici = Yonetici(\"Habibullah Metin\",20000,\"IT\")"
   ]
  },
  {
   "cell_type": "code",
   "execution_count": 8,
   "metadata": {},
   "outputs": [
    {
     "name": "stdout",
     "output_type": "stream",
     "text": [
      "Çalışan Sınıfının Bilgileri .....\n",
      "İsim : Habibullah Metin\n",
      " Maaş : 20000\n",
      " Departman : IT \n",
      "\n"
     ]
    }
   ],
   "source": [
    "yonetici.bilgileriGöster()"
   ]
  },
  {
   "cell_type": "code",
   "execution_count": 9,
   "metadata": {},
   "outputs": [],
   "source": [
    "yonetici.departmanDegistir(\"İK\")"
   ]
  },
  {
   "cell_type": "code",
   "execution_count": 10,
   "metadata": {},
   "outputs": [
    {
     "name": "stdout",
     "output_type": "stream",
     "text": [
      "Çalışan Sınıfının Bilgileri .....\n",
      "İsim : Habibullah Metin\n",
      " Maaş : 20000\n",
      " Departman : İK \n",
      "\n"
     ]
    }
   ],
   "source": [
    "yonetici.bilgileriGöster()"
   ]
  },
  {
   "cell_type": "code",
   "execution_count": 11,
   "metadata": {},
   "outputs": [
    {
     "data": {
      "text/plain": [
       "['__class__',\n",
       " '__delattr__',\n",
       " '__dict__',\n",
       " '__dir__',\n",
       " '__doc__',\n",
       " '__eq__',\n",
       " '__format__',\n",
       " '__ge__',\n",
       " '__getattribute__',\n",
       " '__gt__',\n",
       " '__hash__',\n",
       " '__init__',\n",
       " '__init_subclass__',\n",
       " '__le__',\n",
       " '__lt__',\n",
       " '__module__',\n",
       " '__ne__',\n",
       " '__new__',\n",
       " '__reduce__',\n",
       " '__reduce_ex__',\n",
       " '__repr__',\n",
       " '__setattr__',\n",
       " '__sizeof__',\n",
       " '__str__',\n",
       " '__subclasshook__',\n",
       " '__weakref__',\n",
       " 'bilgileriGöster',\n",
       " 'departman',\n",
       " 'departmanDegistir',\n",
       " 'isim',\n",
       " 'maas']"
      ]
     },
     "execution_count": 11,
     "metadata": {},
     "output_type": "execute_result"
    }
   ],
   "source": [
    "dir(yonetici)"
   ]
  },
  {
   "cell_type": "code",
   "execution_count": 12,
   "metadata": {},
   "outputs": [],
   "source": [
    "class Yonetici(Calisan) :\n",
    "    def zamYap(self,zam_miktari) :\n",
    "        self.maas +=  zam_miktari"
   ]
  },
  {
   "cell_type": "code",
   "execution_count": 13,
   "metadata": {},
   "outputs": [
    {
     "name": "stdout",
     "output_type": "stream",
     "text": [
      "Çalışan sınıfının init fonksiyonu...\n"
     ]
    }
   ],
   "source": [
    "yonetici = Yonetici(\"Muhammet Metin\",20000,\"Pazarlama\")"
   ]
  },
  {
   "cell_type": "code",
   "execution_count": 14,
   "metadata": {},
   "outputs": [],
   "source": [
    "yonetici.zamYap(5000)"
   ]
  },
  {
   "cell_type": "code",
   "execution_count": 15,
   "metadata": {},
   "outputs": [
    {
     "name": "stdout",
     "output_type": "stream",
     "text": [
      "Çalışan Sınıfının Bilgileri .....\n",
      "İsim : Muhammet Metin\n",
      " Maaş : 25000\n",
      " Departman : Pazarlama \n",
      "\n"
     ]
    }
   ],
   "source": [
    "yonetici.bilgileriGöster()"
   ]
  },
  {
   "cell_type": "code",
   "execution_count": 16,
   "metadata": {},
   "outputs": [],
   "source": [
    "class Calisan() :\n",
    "    def __init__(self,isim,maas,departman) :\n",
    "        print(\"Çalışan sınıfının init fonksiyonu...\")\n",
    "        self.isim = isim\n",
    "        self.maas = maas\n",
    "        self.departman = departman\n",
    "    \n",
    "    def bilgileriGöster(self) :\n",
    "        print(\"Çalışan Sınıfının Bilgileri .....\")\n",
    "        print(\"İsim : {}\\n Maaş : {}\\n Departman : {} \\n\".format(self.isim,self.maas,self.departman))\n",
    "    \n",
    "    def departmanDegistir(self,yeni_departman) :\n",
    "        self.departman = yeni_departman\n",
    "        "
   ]
  },
  {
   "cell_type": "code",
   "execution_count": 20,
   "metadata": {},
   "outputs": [],
   "source": [
    "class Yonetici(Calisan) :\n",
    "    def __init__(self,isim,maas,departman,kisi_sayisi) :\n",
    "        print(\"Yönetici sınıfının init fonksiyonu...\")\n",
    "        self.isim = isim\n",
    "        self.maas = maas\n",
    "        self.departman = departman\n",
    "        self.kisi_sayisi = kisi_sayisi\n",
    "    def bilgileriGöster(self) :\n",
    "        print(\"Çalışan Sınıfının Bilgileri .....\")\n",
    "        print(\"İsim : {}\\n Maaş : {}\\n Departman : {} \\n Kişi Sayısı : {}\\n\".format(self.isim,self.maas,self.departman,self.kisi_sayisi))\n",
    "        \n",
    "    def zamYap(self,zam_miktari) :\n",
    "        self.maas +=  zam_miktari"
   ]
  },
  {
   "cell_type": "code",
   "execution_count": 22,
   "metadata": {},
   "outputs": [
    {
     "name": "stdout",
     "output_type": "stream",
     "text": [
      "Yönetici sınıfının init fonksiyonu...\n"
     ]
    }
   ],
   "source": [
    "yonetici = Yonetici(\"Habibullah Metin\",25000,\"Bilşim\",100)"
   ]
  },
  {
   "cell_type": "code",
   "execution_count": 23,
   "metadata": {},
   "outputs": [
    {
     "name": "stdout",
     "output_type": "stream",
     "text": [
      "Çalışan Sınıfının Bilgileri .....\n",
      "İsim : Habibullah Metin\n",
      " Maaş : 25000\n",
      " Departman : Bilşim \n",
      " Kişi Sayısı : 100\n",
      "\n"
     ]
    }
   ],
   "source": [
    "yonetici.bilgileriGöster()"
   ]
  },
  {
   "cell_type": "code",
   "execution_count": 24,
   "metadata": {},
   "outputs": [],
   "source": [
    "class Calisan() :\n",
    "    def __init__(self,isim,maas,departman) :\n",
    "        print(\"Çalışan sınıfının init fonksiyonu...\")\n",
    "        self.isim = isim\n",
    "        self.maas = maas\n",
    "        self.departman = departman\n",
    "    \n",
    "    def bilgileriGöster(self) :\n",
    "        print(\"Çalışan Sınıfının Bilgileri .....\")\n",
    "        print(\"İsim : {}\\n Maaş : {}\\n Departman : {} \\n\".format(self.isim,self.maas,self.departman))\n",
    "    \n",
    "    def departmanDegistir(self,yeni_departman) :\n",
    "        self.departman = yeni_departman"
   ]
  },
  {
   "cell_type": "code",
   "execution_count": 25,
   "metadata": {},
   "outputs": [],
   "source": [
    "class Yonetici(Calisan) :\n",
    "    def __init__(self,isim,maas,departman,kisi_sayisi) :\n",
    "        super().__init__(isim,maas,departman)\n",
    "        print(\"Yönetici sınıfının init fonksiyonu...\")\n",
    "        self.kisi_sayisi = kisi_sayisi\n",
    "    def bilgileriGöster(self) :\n",
    "        print(\"Çalışan Sınıfının Bilgileri .....\")\n",
    "        print(\"İsim : {}\\n Maaş : {}\\n Departman : {} \\n Kişi Sayısı : {}\\n\".format(self.isim,self.maas,self.departman,self.kisi_sayisi))\n",
    "        \n",
    "    def zamYap(self,zam_miktari) :\n",
    "        self.maas +=  zam_miktari"
   ]
  },
  {
   "cell_type": "code",
   "execution_count": 26,
   "metadata": {},
   "outputs": [
    {
     "name": "stdout",
     "output_type": "stream",
     "text": [
      "Çalışan sınıfının init fonksiyonu...\n",
      "Yönetici sınıfının init fonksiyonu...\n"
     ]
    }
   ],
   "source": [
    "yonetici = Yonetici(\"Oğuz Arttıran\",3000,\"Bilişim\",5)"
   ]
  },
  {
   "cell_type": "code",
   "execution_count": 27,
   "metadata": {},
   "outputs": [
    {
     "name": "stdout",
     "output_type": "stream",
     "text": [
      "Çalışan Sınıfının Bilgileri .....\n",
      "İsim : Oğuz Arttıran\n",
      " Maaş : 3000\n",
      " Departman : Bilişim \n",
      " Kişi Sayısı : 5\n",
      "\n"
     ]
    }
   ],
   "source": [
    "yonetici.bilgileriGöster()"
   ]
  },
  {
   "cell_type": "code",
   "execution_count": null,
   "metadata": {},
   "outputs": [],
   "source": []
  }
 ],
 "metadata": {
  "kernelspec": {
   "display_name": "Python 3",
   "language": "python",
   "name": "python3"
  },
  "language_info": {
   "codemirror_mode": {
    "name": "ipython",
    "version": 3
   },
   "file_extension": ".py",
   "mimetype": "text/x-python",
   "name": "python",
   "nbconvert_exporter": "python",
   "pygments_lexer": "ipython3",
   "version": "3.6.5"
  }
 },
 "nbformat": 4,
 "nbformat_minor": 2
}
