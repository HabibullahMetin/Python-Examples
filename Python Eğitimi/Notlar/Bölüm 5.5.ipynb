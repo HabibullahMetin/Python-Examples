{
 "cells": [
  {
   "cell_type": "code",
   "execution_count": 1,
   "metadata": {},
   "outputs": [
    {
     "name": "stdout",
     "output_type": "stream",
     "text": [
      "[1, 2, 3, 4, 5]\n"
     ]
    }
   ],
   "source": [
    "liste1 = [1,2,3,4,5]\n",
    "liste2 = []\n",
    "\n",
    "for i in liste1 :\n",
    "    liste2.append(i)\n",
    "print(liste2)    "
   ]
  },
  {
   "cell_type": "code",
   "execution_count": 3,
   "metadata": {},
   "outputs": [
    {
     "name": "stdout",
     "output_type": "stream",
     "text": [
      "[1, 2, 3, 4, 5]\n"
     ]
    }
   ],
   "source": [
    "liste3 = [1,2,3,4,5]\n",
    "\n",
    "liste4 = [i for i in liste3]\n",
    "print(liste4)"
   ]
  },
  {
   "cell_type": "code",
   "execution_count": 4,
   "metadata": {},
   "outputs": [
    {
     "name": "stdout",
     "output_type": "stream",
     "text": [
      "[6, 8, 10]\n"
     ]
    }
   ],
   "source": [
    "liste = [3,4,5]\n",
    "\n",
    "liste1 = [i*2 for i in liste]\n",
    "print(liste1)\n"
   ]
  },
  {
   "cell_type": "code",
   "execution_count": 5,
   "metadata": {},
   "outputs": [
    {
     "name": "stdout",
     "output_type": "stream",
     "text": [
      "[2, 12, 30]\n"
     ]
    }
   ],
   "source": [
    "liste = [(1,2),(3,4),(5,6)]\n",
    "\n",
    "liste1 = [i * j for i,j in liste]\n",
    "print(liste1)"
   ]
  },
  {
   "cell_type": "code",
   "execution_count": 6,
   "metadata": {},
   "outputs": [
    {
     "name": "stdout",
     "output_type": "stream",
     "text": [
      "['ppp', 'yyy', 'ttt', 'hhh', 'ooo', 'nnn']\n"
     ]
    }
   ],
   "source": [
    "a = \"python\"\n",
    "\n",
    "liste1 = [i * 3 for i in a]\n",
    "print(liste1)"
   ]
  },
  {
   "cell_type": "code",
   "execution_count": 9,
   "metadata": {},
   "outputs": [
    {
     "name": "stdout",
     "output_type": "stream",
     "text": [
      "[1, 2, 3, 4, 5, 6, 7, 8, 9, 10, 11, 12, 13, 14, 15]\n"
     ]
    }
   ],
   "source": [
    "liste = [[1,2,3],[4,5,6,7,8],[9,10,11,12,13,14,15]]\n",
    "liste1 = []\n",
    "\n",
    "for i in liste :\n",
    "    for x in i :\n",
    "        liste1.append(x)\n",
    "print(liste1)"
   ]
  },
  {
   "cell_type": "code",
   "execution_count": 10,
   "metadata": {},
   "outputs": [
    {
     "name": "stdout",
     "output_type": "stream",
     "text": [
      "[1, 2, 3, 4, 5, 6, 7, 8, 9, 10, 11, 12, 13, 14, 15]\n"
     ]
    }
   ],
   "source": [
    "liste = [[1,2,3],[4,5,6,7,8],[9,10,11,12,13,14,15]]\n",
    "\n",
    "liste1 = [x for i in liste for x in i]\n",
    "print(liste1)"
   ]
  },
  {
   "cell_type": "code",
   "execution_count": null,
   "metadata": {},
   "outputs": [],
   "source": []
  }
 ],
 "metadata": {
  "kernelspec": {
   "display_name": "Python 3",
   "language": "python",
   "name": "python3"
  },
  "language_info": {
   "codemirror_mode": {
    "name": "ipython",
    "version": 3
   },
   "file_extension": ".py",
   "mimetype": "text/x-python",
   "name": "python",
   "nbconvert_exporter": "python",
   "pygments_lexer": "ipython3",
   "version": "3.6.5"
  }
 },
 "nbformat": 4,
 "nbformat_minor": 2
}
