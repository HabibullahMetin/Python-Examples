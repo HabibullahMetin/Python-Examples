{
 "cells": [
  {
   "cell_type": "code",
   "execution_count": 2,
   "metadata": {},
   "outputs": [
    {
     "ename": "ValueError",
     "evalue": "invalid literal for int() with base 10: 'Ali123'",
     "output_type": "error",
     "traceback": [
      "\u001b[1;31m---------------------------------------------------------------------------\u001b[0m",
      "\u001b[1;31mValueError\u001b[0m                                Traceback (most recent call last)",
      "\u001b[1;32m<ipython-input-2-df7c695ff552>\u001b[0m in \u001b[0;36m<module>\u001b[1;34m()\u001b[0m\n\u001b[1;32m----> 1\u001b[1;33m \u001b[0ma\u001b[0m \u001b[1;33m=\u001b[0m \u001b[0mint\u001b[0m\u001b[1;33m(\u001b[0m\u001b[1;34m\"Ali123\"\u001b[0m\u001b[1;33m)\u001b[0m\u001b[1;33m\u001b[0m\u001b[0m\n\u001b[0m",
      "\u001b[1;31mValueError\u001b[0m: invalid literal for int() with base 10: 'Ali123'"
     ]
    }
   ],
   "source": [
    "a = int(\"Ali123\")"
   ]
  },
  {
   "cell_type": "code",
   "execution_count": 3,
   "metadata": {},
   "outputs": [
    {
     "name": "stdout",
     "output_type": "stream",
     "text": [
      "Hata oluştu\n",
      "Bloklar bitti\n"
     ]
    }
   ],
   "source": [
    "try :\n",
    "    a = int(\"Ali123\")\n",
    "    print(\"Program Burada\")\n",
    "except :\n",
    "    print(\"Hata oluştu\")\n",
    "print(\"Bloklar bitti\")"
   ]
  },
  {
   "cell_type": "code",
   "execution_count": 4,
   "metadata": {},
   "outputs": [
    {
     "name": "stdout",
     "output_type": "stream",
     "text": [
      "Program Burada\n",
      "Bloklar bitti\n"
     ]
    }
   ],
   "source": [
    "try :\n",
    "    a = int(\"123\")\n",
    "    print(\"Program Burada\")\n",
    "except :\n",
    "    print(\"Hata oluştu\")\n",
    "print(\"Bloklar bitti\")"
   ]
  },
  {
   "cell_type": "code",
   "execution_count": 5,
   "metadata": {},
   "outputs": [
    {
     "name": "stdout",
     "output_type": "stream",
     "text": [
      "Program Burada\n",
      "Bloklar bitti\n"
     ]
    }
   ],
   "source": [
    "try :\n",
    "    a = int(\"123\")\n",
    "    print(\"Program Burada\")\n",
    "except ValueError:\n",
    "    print(\"Hata oluştu\")\n",
    "print(\"Bloklar bitti\")"
   ]
  },
  {
   "cell_type": "code",
   "execution_count": 6,
   "metadata": {},
   "outputs": [
    {
     "ename": "ValueError",
     "evalue": "invalid literal for int() with base 10: 'Ali123'",
     "output_type": "error",
     "traceback": [
      "\u001b[1;31m---------------------------------------------------------------------------\u001b[0m",
      "\u001b[1;31mValueError\u001b[0m                                Traceback (most recent call last)",
      "\u001b[1;32m<ipython-input-6-df7c695ff552>\u001b[0m in \u001b[0;36m<module>\u001b[1;34m()\u001b[0m\n\u001b[1;32m----> 1\u001b[1;33m \u001b[0ma\u001b[0m \u001b[1;33m=\u001b[0m \u001b[0mint\u001b[0m\u001b[1;33m(\u001b[0m\u001b[1;34m\"Ali123\"\u001b[0m\u001b[1;33m)\u001b[0m\u001b[1;33m\u001b[0m\u001b[0m\n\u001b[0m",
      "\u001b[1;31mValueError\u001b[0m: invalid literal for int() with base 10: 'Ali123'"
     ]
    }
   ],
   "source": [
    " a = int(\"Ali123\")"
   ]
  },
  {
   "cell_type": "code",
   "execution_count": 7,
   "metadata": {},
   "outputs": [
    {
     "ename": "ZeroDivisionError",
     "evalue": "division by zero",
     "output_type": "error",
     "traceback": [
      "\u001b[1;31m---------------------------------------------------------------------------\u001b[0m",
      "\u001b[1;31mZeroDivisionError\u001b[0m                         Traceback (most recent call last)",
      "\u001b[1;32m<ipython-input-7-22134b536cbe>\u001b[0m in \u001b[0;36m<module>\u001b[1;34m()\u001b[0m\n\u001b[1;32m----> 1\u001b[1;33m \u001b[0mprint\u001b[0m\u001b[1;33m(\u001b[0m\u001b[1;36m2\u001b[0m \u001b[1;33m/\u001b[0m \u001b[1;36m0\u001b[0m\u001b[1;33m)\u001b[0m\u001b[1;33m\u001b[0m\u001b[0m\n\u001b[0m",
      "\u001b[1;31mZeroDivisionError\u001b[0m: division by zero"
     ]
    }
   ],
   "source": [
    "print(2 / 0)"
   ]
  },
  {
   "cell_type": "code",
   "execution_count": 9,
   "metadata": {},
   "outputs": [
    {
     "name": "stdout",
     "output_type": "stream",
     "text": [
      "Sayı1 :12\n",
      "Sayı2 :das54\n",
      "Lütfen sayı giriniz.\n",
      "Bloklar sona erdi\n"
     ]
    }
   ],
   "source": [
    "try :\n",
    "    a = int(input(\"Sayı1 :\"))\n",
    "    b = int(input(\"Sayı2 :\"))\n",
    "    print(a / b)\n",
    "except ValueError :\n",
    "    print(\"Lütfen sayı giriniz.\")\n",
    "except ZeroDivisionError :\n",
    "    print(\"Sayıyı 0'a bölemezsiniz\")\n",
    "print(\"Bloklar sona erdi\")"
   ]
  },
  {
   "cell_type": "code",
   "execution_count": 10,
   "metadata": {},
   "outputs": [
    {
     "name": "stdout",
     "output_type": "stream",
     "text": [
      "Sayı1 :12\n",
      "Sayı2 :0\n",
      "Sayıyı 0'a bölemezsiniz\n",
      "Bloklar sona erdi\n"
     ]
    }
   ],
   "source": [
    "try :\n",
    "    a = int(input(\"Sayı1 :\"))\n",
    "    b = int(input(\"Sayı2 :\"))\n",
    "    print(a / b)\n",
    "except ValueError :\n",
    "    print(\"Lütfen sayı giriniz.\")\n",
    "except ZeroDivisionError :\n",
    "    print(\"Sayıyı 0'a bölemezsiniz\")\n",
    "print(\"Bloklar sona erdi\")"
   ]
  },
  {
   "cell_type": "code",
   "execution_count": 11,
   "metadata": {},
   "outputs": [
    {
     "name": "stdout",
     "output_type": "stream",
     "text": [
      "Sayı1 :12\n",
      "Sayı2 :3\n",
      "4.0\n",
      "Bloklar sona erdi\n"
     ]
    }
   ],
   "source": [
    "try :\n",
    "    a = int(input(\"Sayı1 :\"))\n",
    "    b = int(input(\"Sayı2 :\"))\n",
    "    print(a / b)\n",
    "except ValueError :\n",
    "    print(\"Lütfen sayı giriniz.\")\n",
    "except ZeroDivisionError :\n",
    "    print(\"Sayıyı 0'a bölemezsiniz\")\n",
    "print(\"Bloklar sona erdi\")"
   ]
  },
  {
   "cell_type": "code",
   "execution_count": 14,
   "metadata": {},
   "outputs": [
    {
     "name": "stdout",
     "output_type": "stream",
     "text": [
      "Sayı1 :sda45\n",
      "ValueError veya ZeroDivisionError.\n",
      "Bloklar sona erdi\n"
     ]
    }
   ],
   "source": [
    "try :\n",
    "    a = int(input(\"Sayı1 :\"))\n",
    "    b = int(input(\"Sayı2 :\"))\n",
    "    print(a / b)\n",
    "except (ValueError,ZeroDivisionError) :\n",
    "    print(\"ValueError veya ZeroDivisionError.\")\n",
    "print(\"Bloklar sona erdi\")"
   ]
  },
  {
   "cell_type": "code",
   "execution_count": 16,
   "metadata": {},
   "outputs": [
    {
     "name": "stdout",
     "output_type": "stream",
     "text": [
      "Sayı1 :12\n",
      "Sayı2 :0\n",
      "Sayıyı 0'a bölemezsiniz\n",
      "Burası ne olursa olsun çalışır.\n",
      "Bloklar sona erdi\n"
     ]
    }
   ],
   "source": [
    "try :\n",
    "    a = int(input(\"Sayı1 :\"))\n",
    "    b = int(input(\"Sayı2 :\"))\n",
    "    print(a / b)\n",
    "except ValueError :\n",
    "    print(\"Lütfen sayı giriniz.\")\n",
    "except ZeroDivisionError :\n",
    "    print(\"Sayıyı 0'a bölemezsiniz\")\n",
    "finally :\n",
    "    print(\"Burası ne olursa olsun çalışır.\")\n",
    "print(\"Bloklar sona erdi\")"
   ]
  },
  {
   "cell_type": "code",
   "execution_count": 17,
   "metadata": {},
   "outputs": [],
   "source": [
    "def tersCevir(s) :\n",
    "    if(type(s) != str) :\n",
    "        raise ValueError(\"Lütfen string giriniz\")\n",
    "    else :\n",
    "        return s[::-1]"
   ]
  },
  {
   "cell_type": "code",
   "execution_count": 18,
   "metadata": {},
   "outputs": [
    {
     "name": "stdout",
     "output_type": "stream",
     "text": [
      "ahha\n"
     ]
    }
   ],
   "source": [
    "print(tersCevir(\"ahha\"))"
   ]
  },
  {
   "cell_type": "code",
   "execution_count": 19,
   "metadata": {},
   "outputs": [
    {
     "name": "stdout",
     "output_type": "stream",
     "text": [
      "jjdakrak\n"
     ]
    }
   ],
   "source": [
    "print(tersCevir(\"karkadjj\"))"
   ]
  },
  {
   "cell_type": "code",
   "execution_count": 21,
   "metadata": {},
   "outputs": [
    {
     "ename": "ValueError",
     "evalue": "Lütfen string giriniz",
     "output_type": "error",
     "traceback": [
      "\u001b[1;31m---------------------------------------------------------------------------\u001b[0m",
      "\u001b[1;31mValueError\u001b[0m                                Traceback (most recent call last)",
      "\u001b[1;32m<ipython-input-21-4b2448db1ce7>\u001b[0m in \u001b[0;36m<module>\u001b[1;34m()\u001b[0m\n\u001b[1;32m----> 1\u001b[1;33m \u001b[0mprint\u001b[0m\u001b[1;33m(\u001b[0m\u001b[0mtersCevir\u001b[0m\u001b[1;33m(\u001b[0m\u001b[1;36m123\u001b[0m\u001b[1;33m)\u001b[0m\u001b[1;33m)\u001b[0m\u001b[1;33m\u001b[0m\u001b[0m\n\u001b[0m",
      "\u001b[1;32m<ipython-input-17-041f032c3c7d>\u001b[0m in \u001b[0;36mtersCevir\u001b[1;34m(s)\u001b[0m\n\u001b[0;32m      1\u001b[0m \u001b[1;32mdef\u001b[0m \u001b[0mtersCevir\u001b[0m\u001b[1;33m(\u001b[0m\u001b[0ms\u001b[0m\u001b[1;33m)\u001b[0m \u001b[1;33m:\u001b[0m\u001b[1;33m\u001b[0m\u001b[0m\n\u001b[0;32m      2\u001b[0m     \u001b[1;32mif\u001b[0m\u001b[1;33m(\u001b[0m\u001b[0mtype\u001b[0m\u001b[1;33m(\u001b[0m\u001b[0ms\u001b[0m\u001b[1;33m)\u001b[0m \u001b[1;33m!=\u001b[0m \u001b[0mstr\u001b[0m\u001b[1;33m)\u001b[0m \u001b[1;33m:\u001b[0m\u001b[1;33m\u001b[0m\u001b[0m\n\u001b[1;32m----> 3\u001b[1;33m         \u001b[1;32mraise\u001b[0m \u001b[0mValueError\u001b[0m\u001b[1;33m(\u001b[0m\u001b[1;34m\"Lütfen string giriniz\"\u001b[0m\u001b[1;33m)\u001b[0m\u001b[1;33m\u001b[0m\u001b[0m\n\u001b[0m\u001b[0;32m      4\u001b[0m     \u001b[1;32melse\u001b[0m \u001b[1;33m:\u001b[0m\u001b[1;33m\u001b[0m\u001b[0m\n\u001b[0;32m      5\u001b[0m         \u001b[1;32mreturn\u001b[0m \u001b[0ms\u001b[0m\u001b[1;33m[\u001b[0m\u001b[1;33m:\u001b[0m\u001b[1;33m:\u001b[0m\u001b[1;33m-\u001b[0m\u001b[1;36m1\u001b[0m\u001b[1;33m]\u001b[0m\u001b[1;33m\u001b[0m\u001b[0m\n",
      "\u001b[1;31mValueError\u001b[0m: Lütfen string giriniz"
     ]
    }
   ],
   "source": [
    "print(tersCevir(123))"
   ]
  },
  {
   "cell_type": "code",
   "execution_count": 22,
   "metadata": {},
   "outputs": [
    {
     "name": "stdout",
     "output_type": "stream",
     "text": [
      "Fonksiyon hata verdi\n"
     ]
    }
   ],
   "source": [
    "try :\n",
    "    print(tersCevir(123))\n",
    "except :\n",
    "    print(\"Fonksiyon hata verdi\")"
   ]
  },
  {
   "cell_type": "code",
   "execution_count": null,
   "metadata": {},
   "outputs": [],
   "source": []
  }
 ],
 "metadata": {
  "kernelspec": {
   "display_name": "Python 3",
   "language": "python",
   "name": "python3"
  },
  "language_info": {
   "codemirror_mode": {
    "name": "ipython",
    "version": 3
   },
   "file_extension": ".py",
   "mimetype": "text/x-python",
   "name": "python",
   "nbconvert_exporter": "python",
   "pygments_lexer": "ipython3",
   "version": "3.6.5"
  }
 },
 "nbformat": 4,
 "nbformat_minor": 2
}
