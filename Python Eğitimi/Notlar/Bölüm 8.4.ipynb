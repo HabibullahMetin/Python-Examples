{
 "cells": [
  {
   "cell_type": "code",
   "execution_count": 1,
   "metadata": {},
   "outputs": [],
   "source": [
    "class Kitap() :\n",
    "    pass"
   ]
  },
  {
   "cell_type": "code",
   "execution_count": 2,
   "metadata": {},
   "outputs": [],
   "source": [
    "kitap = Kitap() ##__init__ methodu"
   ]
  },
  {
   "cell_type": "code",
   "execution_count": 4,
   "metadata": {},
   "outputs": [
    {
     "name": "stdout",
     "output_type": "stream",
     "text": [
      "<__main__.Kitap object at 0x000001B915928320>\n"
     ]
    }
   ],
   "source": [
    "print(kitap) ##__str__ methodu"
   ]
  },
  {
   "cell_type": "code",
   "execution_count": 5,
   "metadata": {},
   "outputs": [
    {
     "ename": "TypeError",
     "evalue": "object of type 'Kitap' has no len()",
     "output_type": "error",
     "traceback": [
      "\u001b[1;31m---------------------------------------------------------------------------\u001b[0m",
      "\u001b[1;31mTypeError\u001b[0m                                 Traceback (most recent call last)",
      "\u001b[1;32m<ipython-input-5-f6ed7aed7f69>\u001b[0m in \u001b[0;36m<module>\u001b[1;34m()\u001b[0m\n\u001b[1;32m----> 1\u001b[1;33m \u001b[0mlen\u001b[0m\u001b[1;33m(\u001b[0m\u001b[0mkitap\u001b[0m\u001b[1;33m)\u001b[0m\u001b[1;33m\u001b[0m\u001b[0m\n\u001b[0m",
      "\u001b[1;31mTypeError\u001b[0m: object of type 'Kitap' has no len()"
     ]
    }
   ],
   "source": [
    "len(kitap) ##__len__ methodu"
   ]
  },
  {
   "cell_type": "code",
   "execution_count": 6,
   "metadata": {},
   "outputs": [],
   "source": [
    "del kitap ##__del__ methodu\n"
   ]
  },
  {
   "cell_type": "code",
   "execution_count": 7,
   "metadata": {},
   "outputs": [
    {
     "ename": "NameError",
     "evalue": "name 'kitap' is not defined",
     "output_type": "error",
     "traceback": [
      "\u001b[1;31m---------------------------------------------------------------------------\u001b[0m",
      "\u001b[1;31mNameError\u001b[0m                                 Traceback (most recent call last)",
      "\u001b[1;32m<ipython-input-7-1a7f1cf5fe3f>\u001b[0m in \u001b[0;36m<module>\u001b[1;34m()\u001b[0m\n\u001b[1;32m----> 1\u001b[1;33m \u001b[0mkitap\u001b[0m\u001b[1;33m\u001b[0m\u001b[0m\n\u001b[0m",
      "\u001b[1;31mNameError\u001b[0m: name 'kitap' is not defined"
     ]
    }
   ],
   "source": [
    "kitap"
   ]
  },
  {
   "cell_type": "code",
   "execution_count": 10,
   "metadata": {},
   "outputs": [],
   "source": [
    "class Kitap() :\n",
    "    def __init__(self,isim,yazar,sayfa_sayısı,tür) :\n",
    "        print(\"init fonksiyonu\")\n",
    "        self.isim = isim\n",
    "        self.yazar = yazar\n",
    "        self.sayfa_sayıs = sayfa_sayısı\n",
    "        self.tür = tür\n",
    "        "
   ]
  },
  {
   "cell_type": "code",
   "execution_count": 11,
   "metadata": {},
   "outputs": [
    {
     "name": "stdout",
     "output_type": "stream",
     "text": [
      "init fonksiyonu\n"
     ]
    }
   ],
   "source": [
    "kitap = Kitap(\"İstanbul Hatırası\",\"Ahmet Ümit\",561,\"Polisiye\")"
   ]
  },
  {
   "cell_type": "code",
   "execution_count": 15,
   "metadata": {},
   "outputs": [],
   "source": [
    "class Kitap() :\n",
    "    def __init__(self,isim,yazar,sayfa_sayısı,tür) :\n",
    "        print(\"init fonksiyonu\")\n",
    "        self.isim = isim\n",
    "        self.yazar = yazar\n",
    "        self.sayfa_sayısı = sayfa_sayısı\n",
    "        self.tür = tür\n",
    "    def __str__(self) :\n",
    "        return \"İsim : {} \\n Yazar : {} \\n Sayfa Sayısı : {} \\n  Tür : {} \".format(self.isim,self.yazar,self.sayfa_sayısı,self.tür)"
   ]
  },
  {
   "cell_type": "code",
   "execution_count": 16,
   "metadata": {},
   "outputs": [
    {
     "name": "stdout",
     "output_type": "stream",
     "text": [
      "init fonksiyonu\n"
     ]
    }
   ],
   "source": [
    "kitap = Kitap(\"İstanbul Hatırası\",\"Ahmet Ümit\",561,\"Polisiye\")"
   ]
  },
  {
   "cell_type": "code",
   "execution_count": 17,
   "metadata": {},
   "outputs": [
    {
     "name": "stdout",
     "output_type": "stream",
     "text": [
      "İsim : İstanbul Hatırası \n",
      " Yazar : Ahmet Ümit \n",
      " Sayfa Sayısı : 561 \n",
      "  Tür : Polisiye \n"
     ]
    }
   ],
   "source": [
    "print(kitap)"
   ]
  },
  {
   "cell_type": "code",
   "execution_count": 18,
   "metadata": {},
   "outputs": [],
   "source": [
    "class Kitap() :\n",
    "    def __init__(self,isim,yazar,sayfa_sayısı,tür) :\n",
    "        print(\"init fonksiyonu\")\n",
    "        self.isim = isim\n",
    "        self.yazar = yazar\n",
    "        self.sayfa_sayısı = sayfa_sayısı\n",
    "        self.tür = tür\n",
    "    def __str__(self) :\n",
    "        return \"İsim : {} \\n Yazar : {} \\n Sayfa Sayısı : {} \\n  Tür : {} \".format(self.isim,self.yazar,self.sayfa_sayısı,self.tür)\n",
    "    def __len__(self) :\n",
    "        return self.sayfa_sayısı"
   ]
  },
  {
   "cell_type": "code",
   "execution_count": 19,
   "metadata": {},
   "outputs": [
    {
     "name": "stdout",
     "output_type": "stream",
     "text": [
      "init fonksiyonu\n"
     ]
    }
   ],
   "source": [
    "kitap = Kitap(\"İstanbul Hatırası\",\"Ahmet Ümit\",561,\"Polisiye\")"
   ]
  },
  {
   "cell_type": "code",
   "execution_count": 20,
   "metadata": {},
   "outputs": [
    {
     "data": {
      "text/plain": [
       "561"
      ]
     },
     "execution_count": 20,
     "metadata": {},
     "output_type": "execute_result"
    }
   ],
   "source": [
    "len(kitap)"
   ]
  },
  {
   "cell_type": "code",
   "execution_count": 21,
   "metadata": {},
   "outputs": [],
   "source": [
    "class Kitap() :\n",
    "    def __init__(self,isim,yazar,sayfa_sayısı,tür) :\n",
    "        print(\"init fonksiyonu\")\n",
    "        self.isim = isim\n",
    "        self.yazar = yazar\n",
    "        self.sayfa_sayısı = sayfa_sayısı\n",
    "        self.tür = tür\n",
    "    def __str__(self) :\n",
    "        return \"İsim : {} \\n Yazar : {} \\n Sayfa Sayısı : {} \\n  Tür : {} \".format(self.isim,self.yazar,self.sayfa_sayısı,self.tür)\n",
    "    def __len__(self) :\n",
    "        return self.sayfa_sayısı\n",
    "    def __del__(self) :\n",
    "        print(\"Kitap objesi silindi\")"
   ]
  },
  {
   "cell_type": "code",
   "execution_count": 22,
   "metadata": {},
   "outputs": [
    {
     "name": "stdout",
     "output_type": "stream",
     "text": [
      "init fonksiyonu\n"
     ]
    }
   ],
   "source": [
    "kitap = Kitap(\"İstanbul Hatırası\",\"Ahmet Ümit\",561,\"Polisiye\")"
   ]
  },
  {
   "cell_type": "code",
   "execution_count": 23,
   "metadata": {},
   "outputs": [
    {
     "name": "stdout",
     "output_type": "stream",
     "text": [
      "Kitap objesi silindi\n"
     ]
    }
   ],
   "source": [
    "del kitap"
   ]
  },
  {
   "cell_type": "code",
   "execution_count": null,
   "metadata": {},
   "outputs": [],
   "source": []
  }
 ],
 "metadata": {
  "kernelspec": {
   "display_name": "Python 3",
   "language": "python",
   "name": "python3"
  },
  "language_info": {
   "codemirror_mode": {
    "name": "ipython",
    "version": 3
   },
   "file_extension": ".py",
   "mimetype": "text/x-python",
   "name": "python",
   "nbconvert_exporter": "python",
   "pygments_lexer": "ipython3",
   "version": "3.6.5"
  }
 },
 "nbformat": 4,
 "nbformat_minor": 2
}
