{
 "cells": [
  {
   "cell_type": "code",
   "execution_count": 20,
   "metadata": {},
   "outputs": [],
   "source": [
    "class Yazılımcı() :\n",
    "    def __init__(self,isim,soyisim,numara,maaş,diller) :\n",
    "        self.isim =isim\n",
    "        self.soyisim =soyisim\n",
    "        self.numara =numara\n",
    "        self.maaş =maaş\n",
    "        self.diller =diller\n",
    "    def bilgileriGöster(self) :\n",
    "        print(\"\"\"\n",
    "        Yazılımcı Objesinin Özellikleri \n",
    "              \n",
    "              İsim : {}\n",
    "              \n",
    "              Soyisim : {}\n",
    "              \n",
    "              Numara : {}\n",
    "              \n",
    "              Maaş : {} \n",
    "              \n",
    "              Diller : {}\n",
    "              \n",
    "              \"\"\".format(self.isim,self.soyisim,self.numara,self.maaş,self.diller))\n",
    "    def zamYap(self,zam_miktari) :\n",
    "        self.maaş += zam_miktari\n",
    "    def dilEkle(self,yeni_dil) :\n",
    "        self.diller.append(yeni_dil)\n",
    "    def soyisimDegis(self,yeni_soyisim) :\n",
    "        self.soyisim = yeni_soyisim\n",
    "        "
   ]
  },
  {
   "cell_type": "code",
   "execution_count": 21,
   "metadata": {},
   "outputs": [],
   "source": [
    "yazılımcı = Yazılımcı(\"Habibullah\",\"Metin\",\"123\",15000,[\"Python\",\"C++\",\"Java\"])"
   ]
  },
  {
   "cell_type": "code",
   "execution_count": 15,
   "metadata": {},
   "outputs": [
    {
     "name": "stdout",
     "output_type": "stream",
     "text": [
      "\n",
      "        Yazılımcı Objesinin Özellikleri \n",
      "              \n",
      "              İsim : Habibullah\n",
      "              \n",
      "              Soyisim : Metin\n",
      "              \n",
      "              Numara : 123\n",
      "              \n",
      "              Maaş : 15000 \n",
      "              \n",
      "              Diller : ['Python', 'C++', 'Java']\n",
      "              \n",
      "              \n"
     ]
    }
   ],
   "source": [
    "yazılımcı.bilgileriGöster()"
   ]
  },
  {
   "cell_type": "code",
   "execution_count": 16,
   "metadata": {},
   "outputs": [],
   "source": [
    "yazılımcı.dilEkle(\"Javascript\")"
   ]
  },
  {
   "cell_type": "code",
   "execution_count": 17,
   "metadata": {},
   "outputs": [
    {
     "name": "stdout",
     "output_type": "stream",
     "text": [
      "\n",
      "        Yazılımcı Objesinin Özellikleri \n",
      "              \n",
      "              İsim : Habibullah\n",
      "              \n",
      "              Soyisim : Metin\n",
      "              \n",
      "              Numara : 123\n",
      "              \n",
      "              Maaş : 15000 \n",
      "              \n",
      "              Diller : ['Python', 'C++', 'Java', 'Javascript']\n",
      "              \n",
      "              \n"
     ]
    }
   ],
   "source": [
    "yazılımcı.bilgileriGöster()"
   ]
  },
  {
   "cell_type": "code",
   "execution_count": 18,
   "metadata": {},
   "outputs": [],
   "source": [
    "yazılımcı.zamYap(5000)"
   ]
  },
  {
   "cell_type": "code",
   "execution_count": 23,
   "metadata": {},
   "outputs": [
    {
     "name": "stdout",
     "output_type": "stream",
     "text": [
      "\n",
      "        Yazılımcı Objesinin Özellikleri \n",
      "              \n",
      "              İsim : Habibullah\n",
      "              \n",
      "              Soyisim : kjksa\n",
      "              \n",
      "              Numara : 123\n",
      "              \n",
      "              Maaş : 15000 \n",
      "              \n",
      "              Diller : ['Python', 'C++', 'Java']\n",
      "              \n",
      "              \n"
     ]
    }
   ],
   "source": [
    "yazılımcı.bilgileriGöster()"
   ]
  },
  {
   "cell_type": "code",
   "execution_count": 22,
   "metadata": {},
   "outputs": [],
   "source": [
    "yazılımcı.soyisimDegis(\"kjksa\")"
   ]
  },
  {
   "cell_type": "code",
   "execution_count": null,
   "metadata": {},
   "outputs": [],
   "source": []
  }
 ],
 "metadata": {
  "kernelspec": {
   "display_name": "Python 3",
   "language": "python",
   "name": "python3"
  },
  "language_info": {
   "codemirror_mode": {
    "name": "ipython",
    "version": 3
   },
   "file_extension": ".py",
   "mimetype": "text/x-python",
   "name": "python",
   "nbconvert_exporter": "python",
   "pygments_lexer": "ipython3",
   "version": "3.6.5"
  }
 },
 "nbformat": 4,
 "nbformat_minor": 2
}
