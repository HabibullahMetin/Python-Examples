{
 "cells": [
  {
   "cell_type": "code",
   "execution_count": 4,
   "metadata": {},
   "outputs": [
    {
     "name": "stdout",
     "output_type": "stream",
     "text": [
      "i :  0\n",
      "i :  1\n",
      "i :  2\n",
      "i :  3\n",
      "i :  4\n",
      "i :  5\n",
      "i :  6\n",
      "i :  7\n",
      "i :  8\n",
      "i :  9\n"
     ]
    }
   ],
   "source": [
    "i = 0\n",
    "\n",
    "while(i < 10) :\n",
    "    print(\"i : \",i)\n",
    "    i+=1"
   ]
  },
  {
   "cell_type": "code",
   "execution_count": 6,
   "metadata": {},
   "outputs": [
    {
     "name": "stdout",
     "output_type": "stream",
     "text": [
      "i :  0\n",
      "i :  2\n",
      "i :  4\n",
      "i :  6\n",
      "i :  8\n",
      "i :  10\n",
      "i :  12\n",
      "i :  14\n",
      "i :  16\n",
      "i :  18\n"
     ]
    }
   ],
   "source": [
    "i = 0\n",
    "\n",
    "while(i < 20) :\n",
    "    print(\"i : \",i)\n",
    "    i+=2"
   ]
  },
  {
   "cell_type": "code",
   "execution_count": 8,
   "metadata": {},
   "outputs": [
    {
     "name": "stdout",
     "output_type": "stream",
     "text": [
      "Python\n",
      "Python\n",
      "Python\n",
      "Python\n",
      "Python\n",
      "Python\n",
      "Python\n",
      "Python\n",
      "Python\n",
      "Python\n",
      "Python\n",
      "Python\n",
      "Python\n",
      "Python\n",
      "Python\n",
      "Python\n",
      "Python\n",
      "Python\n",
      "Python\n",
      "Python\n",
      "Python\n",
      "Python\n",
      "Python\n",
      "Python\n",
      "Python\n",
      "Python\n",
      "Python\n",
      "Python\n",
      "Python\n",
      "Python\n",
      "Python\n",
      "Python\n",
      "Python\n",
      "Python\n",
      "Python\n",
      "Python\n",
      "Python\n",
      "Python\n",
      "Python\n",
      "Python\n"
     ]
    }
   ],
   "source": [
    "a = 0\n",
    "\n",
    "while(a < 40) :\n",
    "    print(\"Python\")\n",
    "    a+=1"
   ]
  },
  {
   "cell_type": "code",
   "execution_count": 9,
   "metadata": {},
   "outputs": [
    {
     "name": "stdout",
     "output_type": "stream",
     "text": [
      "1\n",
      "2\n",
      "3\n",
      "4\n",
      "5\n"
     ]
    }
   ],
   "source": [
    "liste = [1,2,3,4,5]\n",
    "\n",
    "for i in liste :\n",
    "    print(i)"
   ]
  },
  {
   "cell_type": "code",
   "execution_count": 14,
   "metadata": {},
   "outputs": [
    {
     "name": "stdout",
     "output_type": "stream",
     "text": [
      "index : 0 Liste elemanı : 1\n",
      "index : 1 Liste elemanı : 2\n",
      "index : 2 Liste elemanı : 3\n",
      "index : 3 Liste elemanı : 4\n",
      "index : 4 Liste elemanı : 5\n"
     ]
    }
   ],
   "source": [
    "liste = [1,2,3,4,5]\n",
    "index = 0\n",
    "\n",
    "while (index < len(liste)) :\n",
    "    print(\"index :\",index,\"Liste elemanı :\",liste[index])\n",
    "    index+=1"
   ]
  },
  {
   "cell_type": "code",
   "execution_count": 13,
   "metadata": {},
   "outputs": [
    {
     "data": {
      "text/plain": [
       "6"
      ]
     },
     "execution_count": 13,
     "metadata": {},
     "output_type": "execute_result"
    }
   ],
   "source": [
    "2 + 4"
   ]
  },
  {
   "cell_type": "code",
   "execution_count": null,
   "metadata": {},
   "outputs": [],
   "source": []
  }
 ],
 "metadata": {
  "kernelspec": {
   "display_name": "Python 3",
   "language": "python",
   "name": "python3"
  },
  "language_info": {
   "codemirror_mode": {
    "name": "ipython",
    "version": 3
   },
   "file_extension": ".py",
   "mimetype": "text/x-python",
   "name": "python",
   "nbconvert_exporter": "python",
   "pygments_lexer": "ipython3",
   "version": "3.6.5"
  }
 },
 "nbformat": 4,
 "nbformat_minor": 2
}
