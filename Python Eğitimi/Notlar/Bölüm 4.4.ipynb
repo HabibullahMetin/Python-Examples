{
 "cells": [
  {
   "cell_type": "code",
   "execution_count": 6,
   "metadata": {},
   "outputs": [
    {
     "name": "stdout",
     "output_type": "stream",
     "text": [
      "İşlem giriniz7\n",
      "Geçersiz işlem\n"
     ]
    }
   ],
   "source": [
    "islem = input(\"İşlem giriniz\")\n",
    "\n",
    "if(islem == \"1\") :\n",
    "    print(\"İşlem 1 seçildi\")\n",
    "elif(islem == \"2\") :\n",
    "    print(\"İşlem 2 seçildi\")\n",
    "elif(islem == \"3\") :\n",
    "    print(\"İşlem 3 seçildi\")\n",
    "elif(islem == \"4\") :\n",
    "    print(\"İşlem 4 seçildi\")\n",
    "else :\n",
    "    print(\"Geçersiz işlem\")"
   ]
  },
  {
   "cell_type": "code",
   "execution_count": 7,
   "metadata": {},
   "outputs": [
    {
     "ename": "SyntaxError",
     "evalue": "invalid syntax (<ipython-input-7-2222cb299f16>, line 1)",
     "output_type": "error",
     "traceback": [
      "\u001b[1;36m  File \u001b[1;32m\"<ipython-input-7-2222cb299f16>\"\u001b[1;36m, line \u001b[1;32m1\u001b[0m\n\u001b[1;33m    else :\u001b[0m\n\u001b[1;37m       ^\u001b[0m\n\u001b[1;31mSyntaxError\u001b[0m\u001b[1;31m:\u001b[0m invalid syntax\n"
     ]
    }
   ],
   "source": [
    "else :\n",
    "    print(\"kldhksçjd\")"
   ]
  },
  {
   "cell_type": "code",
   "execution_count": 8,
   "metadata": {},
   "outputs": [
    {
     "ename": "SyntaxError",
     "evalue": "invalid syntax (<ipython-input-8-1a10a8802ab9>, line 1)",
     "output_type": "error",
     "traceback": [
      "\u001b[1;36m  File \u001b[1;32m\"<ipython-input-8-1a10a8802ab9>\"\u001b[1;36m, line \u001b[1;32m1\u001b[0m\n\u001b[1;33m    elif islem == \"5\" :\u001b[0m\n\u001b[1;37m       ^\u001b[0m\n\u001b[1;31mSyntaxError\u001b[0m\u001b[1;31m:\u001b[0m invalid syntax\n"
     ]
    }
   ],
   "source": [
    "elif islem == \"5\" :\n",
    "    print(\"jhs\")"
   ]
  },
  {
   "cell_type": "code",
   "execution_count": 16,
   "metadata": {},
   "outputs": [
    {
     "name": "stdout",
     "output_type": "stream",
     "text": [
      "Notunuzu giriniz : 52\n",
      "Kaldınız\n"
     ]
    }
   ],
   "source": [
    "note = float(input(\"Notunuzu giriniz : \"))\n",
    "\n",
    "if (note >= 90) :\n",
    "    print(\"AA\")\n",
    "elif (note >= 85) :\n",
    "    print(\"BA\")\n",
    "elif (note >= 80) :\n",
    "    print(\"BB\")\n",
    "elif (note >= 75) :\n",
    "    print(\"CB\")\n",
    "elif (note >= 70) :\n",
    "    print(\"CC\")\n",
    "elif (note >= 65) :\n",
    "    print(\"DC\")\n",
    "elif (note >= 60) :\n",
    "    print(\"DD\")\n",
    "else :\n",
    "    print(\"Kaldınız\")"
   ]
  }
 ],
 "metadata": {
  "kernelspec": {
   "display_name": "Python 3",
   "language": "python",
   "name": "python3"
  },
  "language_info": {
   "codemirror_mode": {
    "name": "ipython",
    "version": 3
   },
   "file_extension": ".py",
   "mimetype": "text/x-python",
   "name": "python",
   "nbconvert_exporter": "python",
   "pygments_lexer": "ipython3",
   "version": "3.6.5"
  }
 },
 "nbformat": 4,
 "nbformat_minor": 2
}
