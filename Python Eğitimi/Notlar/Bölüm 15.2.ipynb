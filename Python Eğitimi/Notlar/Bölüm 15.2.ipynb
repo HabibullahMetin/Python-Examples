{
 "cells": [
  {
   "cell_type": "code",
   "execution_count": 1,
   "metadata": {},
   "outputs": [],
   "source": [
    "def kareleri_al() :\n",
    "    sonuc = []\n",
    "    for i in range(1,6) :\n",
    "        sonuc.append(i**2)\n",
    "    return sonuc"
   ]
  },
  {
   "cell_type": "code",
   "execution_count": 3,
   "metadata": {},
   "outputs": [
    {
     "name": "stdout",
     "output_type": "stream",
     "text": [
      "[1, 4, 9, 16, 25]\n"
     ]
    }
   ],
   "source": [
    "print(kareleri_al())"
   ]
  },
  {
   "cell_type": "code",
   "execution_count": 4,
   "metadata": {},
   "outputs": [],
   "source": [
    "def kareleri_al() :\n",
    "    for i in range(1,6) :\n",
    "        yield i ** 2 # elemana erişmek istediğimizde yield anahtar kelimesi elemanı üretir ve bizde erişmiş oluruz."
   ]
  },
  {
   "cell_type": "code",
   "execution_count": 5,
   "metadata": {},
   "outputs": [],
   "source": [
    "generator = kareleri_al()"
   ]
  },
  {
   "cell_type": "code",
   "execution_count": 6,
   "metadata": {},
   "outputs": [
    {
     "name": "stdout",
     "output_type": "stream",
     "text": [
      "<generator object kareleri_al at 0x000001B9B047FBA0>\n"
     ]
    }
   ],
   "source": [
    "print(generator)"
   ]
  },
  {
   "cell_type": "code",
   "execution_count": 7,
   "metadata": {},
   "outputs": [],
   "source": [
    "iterator = iter(generator)"
   ]
  },
  {
   "cell_type": "code",
   "execution_count": 8,
   "metadata": {},
   "outputs": [
    {
     "data": {
      "text/plain": [
       "1"
      ]
     },
     "execution_count": 8,
     "metadata": {},
     "output_type": "execute_result"
    }
   ],
   "source": [
    "next(iterator)"
   ]
  },
  {
   "cell_type": "code",
   "execution_count": 9,
   "metadata": {},
   "outputs": [
    {
     "data": {
      "text/plain": [
       "4"
      ]
     },
     "execution_count": 9,
     "metadata": {},
     "output_type": "execute_result"
    }
   ],
   "source": [
    "next(iterator)"
   ]
  },
  {
   "cell_type": "code",
   "execution_count": 10,
   "metadata": {},
   "outputs": [
    {
     "data": {
      "text/plain": [
       "9"
      ]
     },
     "execution_count": 10,
     "metadata": {},
     "output_type": "execute_result"
    }
   ],
   "source": [
    "next(iterator)"
   ]
  },
  {
   "cell_type": "code",
   "execution_count": 11,
   "metadata": {},
   "outputs": [
    {
     "data": {
      "text/plain": [
       "16"
      ]
     },
     "execution_count": 11,
     "metadata": {},
     "output_type": "execute_result"
    }
   ],
   "source": [
    "next(iterator)"
   ]
  },
  {
   "cell_type": "code",
   "execution_count": 12,
   "metadata": {},
   "outputs": [
    {
     "data": {
      "text/plain": [
       "25"
      ]
     },
     "execution_count": 12,
     "metadata": {},
     "output_type": "execute_result"
    }
   ],
   "source": [
    "next(iterator)"
   ]
  },
  {
   "cell_type": "code",
   "execution_count": 13,
   "metadata": {},
   "outputs": [
    {
     "ename": "StopIteration",
     "evalue": "",
     "output_type": "error",
     "traceback": [
      "\u001b[1;31m---------------------------------------------------------------------------\u001b[0m",
      "\u001b[1;31mStopIteration\u001b[0m                             Traceback (most recent call last)",
      "\u001b[1;32m<ipython-input-13-4ce711c44abc>\u001b[0m in \u001b[0;36m<module>\u001b[1;34m()\u001b[0m\n\u001b[1;32m----> 1\u001b[1;33m \u001b[0mnext\u001b[0m\u001b[1;33m(\u001b[0m\u001b[0miterator\u001b[0m\u001b[1;33m)\u001b[0m\u001b[1;33m\u001b[0m\u001b[0m\n\u001b[0m",
      "\u001b[1;31mStopIteration\u001b[0m: "
     ]
    }
   ],
   "source": [
    "next(iterator)"
   ]
  },
  {
   "cell_type": "code",
   "execution_count": 14,
   "metadata": {},
   "outputs": [],
   "source": [
    "iterator2 = iter(generator)"
   ]
  },
  {
   "cell_type": "code",
   "execution_count": 15,
   "metadata": {},
   "outputs": [
    {
     "ename": "StopIteration",
     "evalue": "",
     "output_type": "error",
     "traceback": [
      "\u001b[1;31m---------------------------------------------------------------------------\u001b[0m",
      "\u001b[1;31mStopIteration\u001b[0m                             Traceback (most recent call last)",
      "\u001b[1;32m<ipython-input-15-ffa6f9d630a7>\u001b[0m in \u001b[0;36m<module>\u001b[1;34m()\u001b[0m\n\u001b[1;32m----> 1\u001b[1;33m \u001b[0mnext\u001b[0m\u001b[1;33m(\u001b[0m\u001b[0miterator2\u001b[0m\u001b[1;33m)\u001b[0m\u001b[1;33m\u001b[0m\u001b[0m\n\u001b[0m",
      "\u001b[1;31mStopIteration\u001b[0m: "
     ]
    }
   ],
   "source": [
    "next(iterator2)"
   ]
  },
  {
   "cell_type": "code",
   "execution_count": 16,
   "metadata": {},
   "outputs": [],
   "source": [
    "liste = [i * 3 for i in range(5)]"
   ]
  },
  {
   "cell_type": "code",
   "execution_count": 17,
   "metadata": {},
   "outputs": [
    {
     "data": {
      "text/plain": [
       "[0, 3, 6, 9, 12]"
      ]
     },
     "execution_count": 17,
     "metadata": {},
     "output_type": "execute_result"
    }
   ],
   "source": [
    "liste"
   ]
  },
  {
   "cell_type": "code",
   "execution_count": 18,
   "metadata": {},
   "outputs": [],
   "source": [
    "generator = (i * 3 for i in range(5))"
   ]
  },
  {
   "cell_type": "code",
   "execution_count": 19,
   "metadata": {},
   "outputs": [
    {
     "name": "stdout",
     "output_type": "stream",
     "text": [
      "<generator object <genexpr> at 0x000001B9B0427888>\n"
     ]
    }
   ],
   "source": [
    "print(generator)"
   ]
  },
  {
   "cell_type": "code",
   "execution_count": 20,
   "metadata": {},
   "outputs": [],
   "source": [
    "iterator =iter(generator)"
   ]
  },
  {
   "cell_type": "code",
   "execution_count": 21,
   "metadata": {},
   "outputs": [
    {
     "data": {
      "text/plain": [
       "0"
      ]
     },
     "execution_count": 21,
     "metadata": {},
     "output_type": "execute_result"
    }
   ],
   "source": [
    "next(iterator)"
   ]
  },
  {
   "cell_type": "code",
   "execution_count": 22,
   "metadata": {},
   "outputs": [
    {
     "data": {
      "text/plain": [
       "3"
      ]
     },
     "execution_count": 22,
     "metadata": {},
     "output_type": "execute_result"
    }
   ],
   "source": [
    "next(iterator)"
   ]
  },
  {
   "cell_type": "code",
   "execution_count": 23,
   "metadata": {},
   "outputs": [
    {
     "data": {
      "text/plain": [
       "6"
      ]
     },
     "execution_count": 23,
     "metadata": {},
     "output_type": "execute_result"
    }
   ],
   "source": [
    "next(iterator)"
   ]
  },
  {
   "cell_type": "code",
   "execution_count": 24,
   "metadata": {},
   "outputs": [
    {
     "data": {
      "text/plain": [
       "9"
      ]
     },
     "execution_count": 24,
     "metadata": {},
     "output_type": "execute_result"
    }
   ],
   "source": [
    "next(iterator)"
   ]
  },
  {
   "cell_type": "code",
   "execution_count": 25,
   "metadata": {},
   "outputs": [
    {
     "data": {
      "text/plain": [
       "12"
      ]
     },
     "execution_count": 25,
     "metadata": {},
     "output_type": "execute_result"
    }
   ],
   "source": [
    "next(iterator)"
   ]
  },
  {
   "cell_type": "code",
   "execution_count": 26,
   "metadata": {},
   "outputs": [
    {
     "ename": "StopIteration",
     "evalue": "",
     "output_type": "error",
     "traceback": [
      "\u001b[1;31m---------------------------------------------------------------------------\u001b[0m",
      "\u001b[1;31mStopIteration\u001b[0m                             Traceback (most recent call last)",
      "\u001b[1;32m<ipython-input-26-4ce711c44abc>\u001b[0m in \u001b[0;36m<module>\u001b[1;34m()\u001b[0m\n\u001b[1;32m----> 1\u001b[1;33m \u001b[0mnext\u001b[0m\u001b[1;33m(\u001b[0m\u001b[0miterator\u001b[0m\u001b[1;33m)\u001b[0m\u001b[1;33m\u001b[0m\u001b[0m\n\u001b[0m",
      "\u001b[1;31mStopIteration\u001b[0m: "
     ]
    }
   ],
   "source": [
    "next(iterator)"
   ]
  },
  {
   "cell_type": "code",
   "execution_count": 27,
   "metadata": {},
   "outputs": [],
   "source": [
    "def carpimTablosu() :\n",
    "    for i in range(1,11) :\n",
    "        for j in range(1,11) :\n",
    "            yield \"{} . {} = {}\".format(i,j,i*j)"
   ]
  },
  {
   "cell_type": "code",
   "execution_count": 30,
   "metadata": {},
   "outputs": [
    {
     "name": "stdout",
     "output_type": "stream",
     "text": [
      "1 . 1 = 1\n",
      "1 . 2 = 2\n",
      "1 . 3 = 3\n",
      "1 . 4 = 4\n",
      "1 . 5 = 5\n",
      "1 . 6 = 6\n",
      "1 . 7 = 7\n",
      "1 . 8 = 8\n",
      "1 . 9 = 9\n",
      "1 . 10 = 10\n",
      "2 . 1 = 2\n",
      "2 . 2 = 4\n",
      "2 . 3 = 6\n",
      "2 . 4 = 8\n",
      "2 . 5 = 10\n",
      "2 . 6 = 12\n",
      "2 . 7 = 14\n",
      "2 . 8 = 16\n",
      "2 . 9 = 18\n",
      "2 . 10 = 20\n",
      "3 . 1 = 3\n",
      "3 . 2 = 6\n",
      "3 . 3 = 9\n",
      "3 . 4 = 12\n",
      "3 . 5 = 15\n",
      "3 . 6 = 18\n",
      "3 . 7 = 21\n",
      "3 . 8 = 24\n",
      "3 . 9 = 27\n",
      "3 . 10 = 30\n",
      "4 . 1 = 4\n",
      "4 . 2 = 8\n",
      "4 . 3 = 12\n",
      "4 . 4 = 16\n",
      "4 . 5 = 20\n",
      "4 . 6 = 24\n",
      "4 . 7 = 28\n",
      "4 . 8 = 32\n",
      "4 . 9 = 36\n",
      "4 . 10 = 40\n",
      "5 . 1 = 5\n",
      "5 . 2 = 10\n",
      "5 . 3 = 15\n",
      "5 . 4 = 20\n",
      "5 . 5 = 25\n",
      "5 . 6 = 30\n",
      "5 . 7 = 35\n",
      "5 . 8 = 40\n",
      "5 . 9 = 45\n",
      "5 . 10 = 50\n",
      "6 . 1 = 6\n",
      "6 . 2 = 12\n",
      "6 . 3 = 18\n",
      "6 . 4 = 24\n",
      "6 . 5 = 30\n",
      "6 . 6 = 36\n",
      "6 . 7 = 42\n",
      "6 . 8 = 48\n",
      "6 . 9 = 54\n",
      "6 . 10 = 60\n",
      "7 . 1 = 7\n",
      "7 . 2 = 14\n",
      "7 . 3 = 21\n",
      "7 . 4 = 28\n",
      "7 . 5 = 35\n",
      "7 . 6 = 42\n",
      "7 . 7 = 49\n",
      "7 . 8 = 56\n",
      "7 . 9 = 63\n",
      "7 . 10 = 70\n",
      "8 . 1 = 8\n",
      "8 . 2 = 16\n",
      "8 . 3 = 24\n",
      "8 . 4 = 32\n",
      "8 . 5 = 40\n",
      "8 . 6 = 48\n",
      "8 . 7 = 56\n",
      "8 . 8 = 64\n",
      "8 . 9 = 72\n",
      "8 . 10 = 80\n",
      "9 . 1 = 9\n",
      "9 . 2 = 18\n",
      "9 . 3 = 27\n",
      "9 . 4 = 36\n",
      "9 . 5 = 45\n",
      "9 . 6 = 54\n",
      "9 . 7 = 63\n",
      "9 . 8 = 72\n",
      "9 . 9 = 81\n",
      "9 . 10 = 90\n",
      "10 . 1 = 10\n",
      "10 . 2 = 20\n",
      "10 . 3 = 30\n",
      "10 . 4 = 40\n",
      "10 . 5 = 50\n",
      "10 . 6 = 60\n",
      "10 . 7 = 70\n",
      "10 . 8 = 80\n",
      "10 . 9 = 90\n",
      "10 . 10 = 100\n"
     ]
    }
   ],
   "source": [
    "for i in carpimTablosu() :\n",
    "    print(i)"
   ]
  },
  {
   "cell_type": "code",
   "execution_count": null,
   "metadata": {},
   "outputs": [],
   "source": []
  }
 ],
 "metadata": {
  "kernelspec": {
   "display_name": "Python 3",
   "language": "python",
   "name": "python3"
  },
  "language_info": {
   "codemirror_mode": {
    "name": "ipython",
    "version": 3
   },
   "file_extension": ".py",
   "mimetype": "text/x-python",
   "name": "python",
   "nbconvert_exporter": "python",
   "pygments_lexer": "ipython3",
   "version": "3.6.5"
  }
 },
 "nbformat": 4,
 "nbformat_minor": 2
}
