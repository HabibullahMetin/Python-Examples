{
 "cells": [
  {
   "cell_type": "code",
   "execution_count": 4,
   "metadata": {},
   "outputs": [],
   "source": [
    "def anafonksiyon(islem_adi) :\n",
    "    \n",
    "    def toplama(*args) :\n",
    "        toplam = 0\n",
    "        for i in args :\n",
    "            toplam += i\n",
    "        return toplam\n",
    "    \n",
    "    def carpma(*args) :\n",
    "        carpim = 1\n",
    "        for i in args :\n",
    "            carpim *= i\n",
    "        return carpim\n",
    "    \n",
    "    if(islem_adi == \"toplama\") :\n",
    "        return toplama\n",
    "    else :\n",
    "        return carpma\n",
    "    "
   ]
  },
  {
   "cell_type": "code",
   "execution_count": 5,
   "metadata": {},
   "outputs": [],
   "source": [
    "fonk = anafonksiyon(\"toplama\")"
   ]
  },
  {
   "cell_type": "code",
   "execution_count": 6,
   "metadata": {},
   "outputs": [
    {
     "data": {
      "text/plain": [
       "<function __main__.anafonksiyon.<locals>.toplama(*args)>"
      ]
     },
     "execution_count": 6,
     "metadata": {},
     "output_type": "execute_result"
    }
   ],
   "source": [
    "fonk"
   ]
  },
  {
   "cell_type": "code",
   "execution_count": 7,
   "metadata": {},
   "outputs": [
    {
     "data": {
      "text/plain": [
       "15"
      ]
     },
     "execution_count": 7,
     "metadata": {},
     "output_type": "execute_result"
    }
   ],
   "source": [
    "fonk(1,2,3,4,5)"
   ]
  },
  {
   "cell_type": "code",
   "execution_count": 8,
   "metadata": {},
   "outputs": [],
   "source": [
    "fonk2 = anafonksiyon(\"carpma\")"
   ]
  },
  {
   "cell_type": "code",
   "execution_count": 9,
   "metadata": {},
   "outputs": [
    {
     "data": {
      "text/plain": [
       "<function __main__.anafonksiyon.<locals>.carpma(*args)>"
      ]
     },
     "execution_count": 9,
     "metadata": {},
     "output_type": "execute_result"
    }
   ],
   "source": [
    "fonk2"
   ]
  },
  {
   "cell_type": "code",
   "execution_count": 10,
   "metadata": {},
   "outputs": [
    {
     "data": {
      "text/plain": [
       "120"
      ]
     },
     "execution_count": 10,
     "metadata": {},
     "output_type": "execute_result"
    }
   ],
   "source": [
    "fonk2(1,2,3,4,5)"
   ]
  },
  {
   "cell_type": "code",
   "execution_count": 11,
   "metadata": {},
   "outputs": [],
   "source": [
    "def toplama(a,b) :\n",
    "    return a+b\n",
    "def cikarma(a,b) :\n",
    "    return a-b\n",
    "def carpma(a,b) :\n",
    "    return a*b\n",
    "def bolme(a,b) :\n",
    "    return a/b"
   ]
  },
  {
   "cell_type": "code",
   "execution_count": 8,
   "metadata": {},
   "outputs": [],
   "source": [
    "def toplama(a,b) :\n",
    "    return a+b\n",
    "def cikarma(a,b) :\n",
    "    return a-b\n",
    "def carpma(a,b) :\n",
    "    return a*b\n",
    "def bolme(a,b) :\n",
    "    return a/b\n",
    "   "
   ]
  },
  {
   "cell_type": "code",
   "execution_count": 9,
   "metadata": {},
   "outputs": [],
   "source": [
    "def anafonksiyon(func1,func2,func3,func4,islem_adi) :\n",
    "    \n",
    "    if(islem_adi == \"toplama\") :\n",
    "        print(func1(3,4))\n",
    "    elif(islem_adi == \"cikarma\") :\n",
    "        print(func2(3,4))\n",
    "    elif(islem_adi == \"carpma\") :\n",
    "        print(func3(3,4))\n",
    "    elif(islem_adi == \"bolme\") :\n",
    "        print(func4(3,4))\n",
    "    else :\n",
    "        print(\"Geçersiz işlem\")"
   ]
  },
  {
   "cell_type": "code",
   "execution_count": 10,
   "metadata": {},
   "outputs": [
    {
     "name": "stdout",
     "output_type": "stream",
     "text": [
      "7\n"
     ]
    }
   ],
   "source": [
    "anafonksiyon(toplama,cikarma,carpma,bolme,\"toplama\")"
   ]
  },
  {
   "cell_type": "code",
   "execution_count": 11,
   "metadata": {},
   "outputs": [
    {
     "name": "stdout",
     "output_type": "stream",
     "text": [
      "-1\n"
     ]
    }
   ],
   "source": [
    "anafonksiyon(toplama,cikarma,carpma,bolme,\"cikarma\")"
   ]
  },
  {
   "cell_type": "code",
   "execution_count": 12,
   "metadata": {},
   "outputs": [
    {
     "name": "stdout",
     "output_type": "stream",
     "text": [
      "12\n",
      "0.75\n"
     ]
    }
   ],
   "source": [
    "anafonksiyon(toplama,cikarma,carpma,bolme,\"carpma\")\n",
    "anafonksiyon(toplama,cikarma,carpma,bolme,\"bolme\")"
   ]
  },
  {
   "cell_type": "code",
   "execution_count": null,
   "metadata": {},
   "outputs": [],
   "source": []
  }
 ],
 "metadata": {
  "kernelspec": {
   "display_name": "Python 3",
   "language": "python",
   "name": "python3"
  },
  "language_info": {
   "codemirror_mode": {
    "name": "ipython",
    "version": 3
   },
   "file_extension": ".py",
   "mimetype": "text/x-python",
   "name": "python",
   "nbconvert_exporter": "python",
   "pygments_lexer": "ipython3",
   "version": "3.6.5"
  }
 },
 "nbformat": 4,
 "nbformat_minor": 2
}
